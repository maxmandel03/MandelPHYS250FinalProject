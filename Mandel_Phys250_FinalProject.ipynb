{
 "cells": [
  {
   "cell_type": "code",
   "execution_count": 2,
   "id": "37000104",
   "metadata": {},
   "outputs": [],
   "source": [
    "import numpy as np\n",
    "import matplotlib.pyplot as plt\n",
    "from matplotlib import cm"
   ]
  },
  {
   "cell_type": "code",
   "execution_count": 8,
   "id": "953f81a6",
   "metadata": {},
   "outputs": [
    {
     "data": {
      "image/png": "[encoded data removed]",
      "text/plain": [
       "<Figure size 432x360 with 2 Axes>"
      ]
     },
     "metadata": {
      "needs_background": "light"
     },
     "output_type": "display_data"
    }
   ],
   "source": [
    "# Simulation parameters\n",
    "Lx, Ly = 1.0, 1.0  # Length of the pipe in x and y directions\n",
    "Nx, Ny = 50, 50    # Number of grid points\n",
    "dx, dy = Lx / (Nx - 1), Ly / (Ny - 1)  # Grid spacing\n",
    "alpha = 0.01       # Thermal diffusivity of the material\n",
    "dt = 0.0001        # Time step\n",
    "time_steps = 500   # Number of time steps\n",
    "\n",
    "# Stability condition for the explicit method\n",
    "if dt > (dx**2 * dy**2) / (2 * alpha * (dx**2 + dy**2)):\n",
    "    raise ValueError(\"Time step is too large for stability.\")\n",
    "\n",
    "# Initialize temperature grid\n",
    "T = np.zeros((Nx, Ny))\n",
    "T_new = np.copy(T)\n",
    "\n",
    "# Initial conditions: heat source in the center\n",
    "T[Nx//2, Ny//2] = 100.0\n",
    "\n",
    "# Boundary conditions (constant temperature boundaries)\n",
    "def apply_boundary_conditions(T):\n",
    "    T[0, :] = 0.0    # Left boundary\n",
    "    T[-1, :] = 0.0   # Right boundary\n",
    "    T[:, 0] = 0.0    # Bottom boundary\n",
    "    T[:, -1] = 0.0   # Top boundary\n",
    "\n",
    "# Main simulation loop\n",
    "for step in range(time_steps):\n",
    "    for i in range(1, Nx - 1):\n",
    "        for j in range(1, Ny - 1):\n",
    "            T_new[i, j] = T[i, j] + alpha * dt * (\n",
    "                (T[i+1, j] - 2 * T[i, j] + T[i-1, j]) / dx**2 +\n",
    "                (T[i, j+1] - 2 * T[i, j] + T[i, j-1]) / dy**2\n",
    "            )\n",
    "    # Update temperature grid and apply boundary conditions\n",
    "    T = np.copy(T_new)\n",
    "    apply_boundary_conditions(T)\n",
    "\n",
    "# Plot the final temperature distribution\n",
    "plt.figure(figsize=(6, 5))\n",
    "plt.imshow(T, extent=[0, Lx, 0, Ly], origin='lower', cmap=cm.inferno)\n",
    "plt.colorbar(label=\"Temperature\")\n",
    "plt.xlabel(\"x\")\n",
    "plt.ylabel(\"y\")\n",
    "plt.title(\"2D Heat Diffusion in a Metal Pipe (Cross-section)\")\n",
    "plt.show()"
   ]
  },
  {
   "cell_type": "code",
   "execution_count": null,
   "id": "903428e7",
   "metadata": {},
   "outputs": [],
   "source": []
  }
 ],
 "metadata": {
  "kernelspec": {
   "display_name": "Python 3 (ipykernel)",
   "language": "python",
   "name": "python3"
  },
  "language_info": {
   "codemirror_mode": {
    "name": "ipython",
    "version": 3
   },
   "file_extension": ".py",
   "mimetype": "text/x-python",
   "name": "python",
   "nbconvert_exporter": "python",
   "pygments_lexer": "ipython3",
   "version": "3.9.7"
  }
 },
 "nbformat": 4,
 "nbformat_minor": 5
}
